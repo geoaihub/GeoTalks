{
  "nbformat": 4,
  "nbformat_minor": 0,
  "metadata": {
    "colab": {
      "provenance": []
    },
    "kernelspec": {
      "name": "python3",
      "display_name": "Python 3"
    },
    "language_info": {
      "name": "python"
    }
  },
  "cells": [
    {
      "cell_type": "markdown",
      "source": [
        "# **Yapay Zekanın (AI) Yaşamımıza Etkisi**\n",
        "\n",
        "<img  src=\"https://raw.githubusercontent.com/geoaihub/geoaihub/main/assets/Mersin%20GeoAI%20Hub%202.png\"  height=400  width=1000  alt=\"https://github.com/geoaihub\"/>  \n",
        "\n",
        "<small>Kaynak: <a  href=\"https://github.com/geoaihub\">GeoAI Hub Mersin</a></small>\n",
        "\n",
        "<br>\n",
        "\n",
        "Yapay Zeka (AI), yaşamımıza olan etkisiyle iş yapma, iletişim kurma ve günlük faaliyetlerimizi gerçekleştirme şeklimizi önemli ölçüde dönüştürmüştür. Karmaşık problemleri her zamankinden daha verimli ve doğru bir şekilde çözmemizi sağlayarak, AI sağlık, finans, ulaşım ve mühendislik gibi çeşitli alanlarda devrim yaratmıştır.\n",
        "\n",
        "Ancak, AI kullanımının artması, AI sistemlerinin karar verme süreçlerinde **şeffaflık** ve **hesap verebilirlik** konularında endişelere yol açmıştır. AI modelleri genellikle birer **kara kutu** gibi çalışır, yani karar verme süreçleri insanlara **opaktır**. Bu durum, güvensizlik, yanlılık ve hatta ayrımcılığa neden olabilmektedir.\n",
        "\n",
        "\n"
      ],
      "metadata": {
        "id": "r_7m8Ry4hPVY"
      }
    },
    {
      "cell_type": "markdown",
      "source": [
        "## **Açıklanabilir Yapay Zeka (XAI) Nedir?**\n",
        "\n",
        "Bu endişeleri gidermek için, **Açıklanabilir Yapay Zeka** (XAI) bir çözüm olarak ortaya çıkmıştır. XAI, AI sistemlerinde şeffaflık ve anlaşılabilirlik sağlamayı amaçlar, bu sayede bu sistemlerin insanlar tarafından daha kolay anlaşılmasını sağlar.\n",
        "\n",
        "XAI algoritmaları ve modelleri, karar verme süreçlerini açık ve kapsamlı bir şekilde **açıklamak** üzere tasarlanmıştır. Bu sayede, insanlar ve makineler arasında güven ve iş birliği artırılır.\n",
        "\n",
        "XAI'nin sağladığı avantajlar şunlardır:\n",
        "\n",
        "- **Şeffaflığı** ve **anlaşılabilirliği** artırarak AI sistemlerinin **hesap verebilirliğini** geliştirir.\n",
        "\n",
        "- **Yanlılık** seviyesini azaltır.\n",
        "\n",
        "- Etkili bir insan-makine iş birliğini teşvik eder.\n",
        "\n",
        "<br>"
      ],
      "metadata": {
        "id": "0_JR__Zvv2yO"
      }
    },
    {
      "cell_type": "markdown",
      "source": [
        "<br>\n",
        "\n",
        "# **1. XAI'nin Ortaya Çıkışından Önceki AI İş Akışı**\n",
        "\n",
        "XAI'nin ortaya çıkışından önce, AI iş akışı genellikle **minimum düzeyde** bir açıklama isteği ile yürütülüyordu. Dünyadan ve çeşitli faaliyetlerden elde edilen veriler, iç işleyişi **anlaşılmayan kara kutu** AI algoritmaları ile işleniyordu. Bu süreçte neler olduğu hakkında çok az bilgi vardı. Sonuç olarak, kullanıcılar ya sistemi **körü körüne güvenerek** kullanmak zorunda kalıyor ya da çıktıyı doğrulamak için **maliyetli araştırmalar** başlatıyordu.\n",
        "\n",
        "![Image](https://i.hizliresim.com/bvv64yr.PNG)\n",
        "\n",
        "*XAI Öncesi İş Akışı (Thampi, 2022)*"
      ],
      "metadata": {
        "id": "zScl5rD07DX5"
      }
    },
    {
      "cell_type": "markdown",
      "source": [
        "## **1.1. XAI Olmadan Kullanıcı Deneyimi**\n",
        "\n",
        "XAI olmayan bir yaklaşımda, kullanıcılar genellikle sistemin çıktısı karşısında **şaşkın** kalıyordu. Algoritmaya güvenmiyorlar ve çıktının doğru olup olmadığından emin olamıyorlardı.\n",
        "\n",
        "Ayrıca, kullanıcılar sürecin üzerinde **kontrol sahibi değildi** ve bu süreci nasıl yöneteceklerini bilmiyorlardı.\n",
        "\n",
        "<br>"
      ],
      "metadata": {
        "id": "lXhjhM0Qv8CL"
      }
    },
    {
      "cell_type": "markdown",
      "source": [
        "<br>\n",
        "\n",
        "# **2. Tipik XAI Yaklaşımı ve Avantajları**\n",
        "\n",
        "Bununla birlikte, **tipik bir XAI yaklaşımında**, kullanıcılar daha şeffaf ve güvenilir bir şekilde yanıt alabilirler. Kullanıcılar, sonucun nasıl elde edildiğini net bir şekilde anladıkları için algoritmaya güvenebilir ve çıktının doğru olup olmadığını doğrulayabilirler. Ayrıca, kullanıcılar **etkileşimli bir açıklama arayüzü** sayesinde süreci anlayabilir ve kontrol edebilirler.\n",
        "\n",
        "\n",
        "\n",
        "\n",
        "\n"
      ],
      "metadata": {
        "id": "TVsZ46BQhoFX"
      }
    },
    {
      "cell_type": "markdown",
      "source": [
        "## **2.1. XAI İş Akışı**\n",
        "Tipik bir XAI iş akışı, çeşitli kaynaklardan veri toplayarak giriş veri setlerini oluşturmayı içerir. Bu veri setleri, daha yüksek **açıklanabilirlik** sağlayan bir **beyaz kutu algoritması** oluşturmak için kullanılır. Kullanıcılar, bu sistemleri daha iyi anlamalarını ve etkin bir şekilde kullanmalarını sağlayan bir arayüz aracılığıyla **yorumlanabilir AI modellerine** erişebilirler.\n",
        "\n",
        "![Image](https://i.hizliresim.com/ffny67r.PNG)\n",
        "\n",
        "*XAI İş Akışı (Thampi, 2022)*\n",
        "\n",
        "<br>"
      ],
      "metadata": {
        "id": "wKXKLxndwDgt"
      }
    },
    {
      "cell_type": "markdown",
      "source": [
        "## **2.2. Kara Kutu ve Beyaz Kutu Modelleri**\n",
        "\n",
        "Makine öğreniminde, **kara kutu** ve **beyaz kutu** modelleri, iki farklı algoritma türünü ifade eder:\n",
        "\n",
        "![Image](https://i.hizliresim.com/rczlfua.png)\n",
        "\n",
        "*(Kara Kutu ve Beyaz Kutu Modelleri)*\n",
        "\n",
        "- **Kara Kutu Modelleri**: Karar verme süreçlerinin **opak** olduğu, yani algoritmanın iç işleyişinin gizli veya kolayca anlaşılamaz olduğu modellerdir. Bu modellerde, kullanıcılar modelin iç mekanizmalarını göremez ve bir sonuca nasıl ulaşıldığını anlayamaz. Kara kutu modelleri genellikle büyük ve karmaşık veri setleriyle çalışırken kullanılır, çünkü algoritmanın veri içindeki desenleri öğrenme ve bulma yeteneği en önemli faktördür. **Yapay sinir ağları** ve **destek vektör makineleri** kara kutu modellerine örnek olarak verilebilir.\n",
        "\n",
        "- **Beyaz Kutu Modelleri**: Şeffaf ve kolayca açıklanabilir olacak şekilde tasarlanmış modellerdir. Bu modeller, algoritmanın kararlarına nasıl ulaştığını anlamayı sağlar. **Doğrusal regresyon**, **karar ağaçları** ve **kural tabanlı sistemler**, beyaz kutu modellerine örnek olarak verilebilir.\n",
        "\n",
        "<br>"
      ],
      "metadata": {
        "id": "AcME0euswImd"
      }
    },
    {
      "cell_type": "markdown",
      "source": [
        "### **2.2.1 Kara Kutu Modellerinin Dezavantajları**\n",
        "\n",
        "Kara kutu modelleri yüksek doğruluk sağlayabilse de, birkaç önemli dezavantaja sahiptir:\n",
        "\n",
        "1. **Şeffaflık ve açıklanabilirlik eksikliği**, modelin sonuçlarına güvensizlik doğurabilir.\n",
        "2. Algoritmanın iç işleyişi gizli olduğu için hata ayıklama veya sorun giderme işlemleri zor olabilir.\n",
        "\n",
        "<br>"
      ],
      "metadata": {
        "id": "xtBoU6PLwSFq"
      }
    },
    {
      "cell_type": "markdown",
      "source": [
        "### **2.2.2. Beyaz Kutu Modellerinin Avantajları**\n",
        "\n",
        "Buna karşılık, beyaz kutu modellerinin birçok avantajı vardır:\n",
        "\n",
        "1. **Şeffaflık ve açıklanabilirlik**: Kullanıcılar, modelin bir karara nasıl ulaştığını anlayabilir.\n",
        "2. **Güvenilirlik**: Modelin sonuçlarına daha fazla güven duyulabilir.\n",
        "3. **Hata ayıklama kolaylığı**: Daha basit yapıları sayesinde hata ayıklama ve sorun giderme daha kolaydır.\n",
        "\n",
        "<br>"
      ],
      "metadata": {
        "id": "2hSXMBGxwe0Q"
      }
    },
    {
      "cell_type": "markdown",
      "source": [
        "<br>\n",
        "\n",
        "# **3. XAI Araştırması ve Yeni Algoritmalar**\n",
        "\n",
        "XAI alanında yapılan araştırmalar, kara kutu modellerini daha şeffaf ve açıklanabilir hale getirmek için yeni algoritmalar ve teknikler geliştirmeye odaklanmıştır. Örneğin, her tür makine öğrenmesi algoritmasına uygulanabilen modelden bağımsız yöntemler, **LIME (Local Interpretable Model-Agnostic Explanations)** ve **SHAP (SHapley Additive exPlanations)** gibi yöntemlerdir. Bu yöntemler, model tarafından yapılan tekil tahminlere yerel açıklamalar getirerek çalışır.\n",
        "\n",
        "<br>"
      ],
      "metadata": {
        "id": "ixCNOztlwjnr"
      }
    },
    {
      "cell_type": "markdown",
      "source": [
        "## **3.1. SHAP ve LIME**\n",
        "\n",
        "**SHAP (Shapley Eklenebilir Açıklamalar)** ve **LIME (Yerel Yorumlanabilir Modelden Bağımsız Açıklamalar)**, makine öğrenimi modellerinin yorumlanabilirliğini sağlamak için kullanılan iki popüler çerçevedir.\n",
        "\n",
        "<br>"
      ],
      "metadata": {
        "id": "FTj6WaDgwqB6"
      }
    },
    {
      "cell_type": "markdown",
      "source": [
        "### **3.1.1. SHAP**\n",
        "SHAP, herhangi bir makine öğrenimi modelinin çıktısını açıklamak için birleşik bir yaklaşım sağlar. SHAP değerleri, bir özelliğin belirli bir durumdaki modele katkısını temsil eder. Bu değerler, beklenen model çıktısı ile özellik dahil edildiğindeki model çıktısı arasındaki farkı ifade eder.\n",
        "\n",
        "![Image](https://i.hizliresim.com/1s875ot.PNG)\n",
        "\n",
        "<br>"
      ],
      "metadata": {
        "id": "tD0_EV4MwxqR"
      }
    },
    {
      "cell_type": "markdown",
      "source": [
        "#### SHAP Kütaphanesi ve Kullanımı\n",
        "\n",
        "SHAP kütüphanesi, herhangi bir makine öğrenimi modelinin çıktısını yorumlamak için çeşitli grafik türleri sunar:\n",
        "\n",
        "- **Özet Grafiği:** Model çıktısı üzerindeki her bir özelliğin etkisini özetler. En önemli özellikleri ve etkilerini belirlemek için kullanılır.\n",
        "\n",
        "<br>\n",
        "\n",
        "![Image](https://i.hizliresim.com/tmuvpzx.PNG)*(Iban, M.C., Bilgilioglu, S.S. Snow avalanche susceptibility mapping using novel tree-based machine learning algorithms (XGBoost, NGBoost, and LightGBM) with eXplainable Artificial Intelligence (XAI) approach. Stoch Environ Res Risk Assess 37, 2243–2270 (2023). https://doi.org/10.1007/s00477-023-02392-6)*\n",
        "\n",
        "<br>\n",
        "\n",
        "![Image](https://i.hizliresim.com/d2m5hjv.)*(Iban, M. C. (2022). An explainable model for the mass appraisal of residences: The application of tree-based Machine Learning algorithms and interpretation of value determinants. Habitat international, 128, 102660. https://doi.org/10.1016/j.habitatint.2022.102660)*\n",
        "\n",
        "<br>\n",
        "\n",
        "- **Bağımlılık Grafiği:** Bir özellik değeri ile model çıktısı arasındaki ilişkiyi gösterir.\n",
        "\n",
        "![Image](https://i.hizliresim.com/i1xl243.png)*(Iban, M.C.; Aksu, O. SHAP-Driven Explainable Artificial Intelligence Framework for Wildfire Susceptibility Mapping Using MODIS Active Fire Pixels: An In-Depth Interpretation of Contributing Factors in Izmir, Türkiye. Remote Sens. 2024, 16, 2842. https://doi.org/10.3390/rs16152842)*\n",
        "\n",
        "\n",
        "<br>\n",
        "\n",
        "- **Güç Grafiği:** Belirli bir veri noktası için her bir özelliğin model çıktısına etkisini gösterir.\n",
        "\n",
        "![Image](https://i.hizliresim.com/m7g1url.PNG)*(Iban, M.C., Bilgilioglu, S.S. Snow avalanche susceptibility mapping using novel tree-based machine learning algorithms (XGBoost, NGBoost, and LightGBM) with eXplainable Artificial Intelligence (XAI) approach. Stoch Environ Res Risk Assess 37, 2243–2270 (2023). https://doi.org/10.1007/s00477-023-02392-6)*\n",
        "\n",
        "![Image](https://i.hizliresim.com/exm4wuy.jpg)*(Iban, M. C. (2022). An explainable model for the mass appraisal of residences: The application of tree-based Machine Learning algorithms and interpretation of value determinants. Habitat international, 128, 102660. https://doi.org/10.1016/j.habitatint.2022.102660)*\n",
        "\n",
        "<br>"
      ],
      "metadata": {
        "id": "CWmOlPrsw1_0"
      }
    },
    {
      "cell_type": "markdown",
      "source": [
        "### **3.1.2. LIME**\n",
        "\n",
        "LIME, modelin bir tahminini yerel olarak açıklayan bir yöntemdir. LIME, belirli bir örneğın yakınında modelin davranışını yaklaştırmak için daha basit, yorumlanabilir bir model (genellikle doğrusal regresyon veya karar ağacı gibi) kullanır.\n",
        "\n",
        "![Image](https://i.hizliresim.com/4fhsamu.jpg)*(Teke, A., & Kavzoglu, T. (2024). Exploring the decision-making process of ensemble learning algorithms in landslide susceptibility mapping: insights from local and Global eXplainable AI analyses. Advances in Space Research, 74(8), 3765-3785. https://doi.org/10.1016/j.asr.2024.06.082)*\n",
        "\n",
        "<br>"
      ],
      "metadata": {
        "id": "_EMbulrSxEyI"
      }
    },
    {
      "cell_type": "markdown",
      "source": [
        "<br>\n",
        "\n",
        "# **4. Derin Öğrenme Örneği: GradientExplainer Kullanımı**"
      ],
      "metadata": {
        "id": "MdbclM42VA6W"
      }
    },
    {
      "cell_type": "markdown",
      "source": [
        "## **4.1. VGG16 ImageNet Modeli**\n",
        "\n",
        "![Image](https://i.hizliresim.com/60aeumz.png) *https://github.com/shap/shap?tab=readme-ov-file*\n",
        "\n",
        "<br>"
      ],
      "metadata": {
        "id": "ZvgztLl40ITm"
      }
    },
    {
      "cell_type": "markdown",
      "source": [
        "## **4.2. CNN Modeli**\n",
        "\n",
        "![Image](https://i.hizliresim.com/n0z6546.PNG)*(A. Temenos, N. Temenos, M. Kaselimi, A. Doulamis and N. Doulamis, \"Interpretable Deep Learning Framework for Land Use and Land Cover Classification in Remote Sensing Using SHAP,\" in IEEE Geoscience and Remote Sensing Letters, vol. 20, pp. 1-5, 2023, Art no. 8500105, doi: 10.1109/LGRS.2023.3251652.)*\n",
        "\n",
        "<br>"
      ],
      "metadata": {
        "id": "lclYZpCv0KtR"
      }
    },
    {
      "cell_type": "markdown",
      "source": [
        "<br>\n",
        "\n",
        "# **5. Gradient Weighted Class Activation Mapping (Grad-CAM)**\n",
        "\n",
        "**Gradient weighted Class Activation Mapping (Grad-CAM)**, konvolüsyonel ağ üzerinden akan belirli bir hedefin gradyanlarını kullanarak, görüntüdeki hedefin bölgesini yerelleştirmek ve vurgulamak için kullanılır.\n",
        "\n",
        "**Grad-CAM**, bilgisayarla görme görevlerinde büyük bir potansiyele sahiptir: görüntü sınıflandırma, nesne tespiti, semantik segmentasyon çalışmalarında algoritmanın neden belirli bir tahminde bulunduğunu anlamayı sağlar.\n",
        "\n",
        "**Hedef kategori** için aşağıdaki çıktıları üreterek modelin iyi bir görsel açıklamasını sağlar:\n",
        "\n",
        "**Grad-CAM**, mevcut piksel alanı gradyan görselleştirmeleriyle birleştirilerek **Guided Grad-CAM** oluşturulur. Bu, bir görüntüdeki hedef sınıfın yüksek çözünürlüklü ayrıntılarını ortaya çıkarır.\n",
        "\n",
        "<br>\n",
        "\n",
        "![Image](https://miro.medium.com/v2/resize:fit:828/format:webp/0*D4FATkIeWp61o9zo.jpg)\n",
        "\n",
        "*VGG ve AlexNet ağlarının son konvolüsyonel katmanlarında konvolüsyonel özellik haritalarıyla aynı boyutta kaba bir ısı haritası oluşturur.*\n",
        "\n",
        "<br>\n",
        "\n",
        "![Image](https://i.hizliresim.com/50hzjlr.jpg) *(BigEarthNet'teki Iğlı Ormanlar için DenseNet Modelinin Tahminlerinin Farklı XAI Modelleri ile Açıklanması - Kakogeorgiou, I., & Karantzalos, K. (2021). Evaluating explainable artificial intelligence methods for multi-label deep learning classification tasks in remote sensing. International Journal of Applied Earth Observation and Geoinformation, 103, 102520.)*\n",
        "\n",
        "<br>"
      ],
      "metadata": {
        "id": "dzo3pspjXUKn"
      }
    },
    {
      "cell_type": "code",
      "source": [],
      "metadata": {
        "id": "EdrVNb-TxIqY"
      },
      "execution_count": null,
      "outputs": []
    }
  ]
}